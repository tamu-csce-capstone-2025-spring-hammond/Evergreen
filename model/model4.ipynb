{
 "cells": [
  {
   "cell_type": "code",
   "execution_count": 9,
   "id": "43d22fb3",
   "metadata": {},
   "outputs": [
    {
     "name": "stdout",
     "output_type": "stream",
     "text": [
      "Requirement already satisfied: tqdm in ./.venv/lib/python3.13/site-packages (4.67.1)\n",
      "Note: you may need to restart the kernel to use updated packages.\n"
     ]
    }
   ],
   "source": [
    "%pip install tqdm "
   ]
  },
  {
   "cell_type": "code",
   "execution_count": 20,
   "id": "a7f0944b",
   "metadata": {},
   "outputs": [],
   "source": [
    "import pandas as pd\n",
    "from pypfopt import EfficientFrontier, risk_models, expected_returns\n",
    "import yfinance as yf\n",
    "import itertools\n",
    "import json\n",
    "from tqdm import tqdm\n",
    "import numpy as np"
   ]
  },
  {
   "cell_type": "code",
   "execution_count": 11,
   "id": "076188bc",
   "metadata": {},
   "outputs": [],
   "source": [
    "def portfolio_settings(risk_level: int, years_to_target: int) -> float:\n",
    "    \"\"\"\n",
    "    Estimate a target volatility based on risk level (1-5) and years to target date.\n",
    "\n",
    "    Args:\n",
    "        risk_level (int): Risk tolerance (1 = conservative, 5 = aggressive)\n",
    "        years_to_target (int): Time horizon in years\n",
    "\n",
    "    Returns:\n",
    "        float: Target annualized volatility (0.0 - 1.0)\n",
    "    \"\"\"\n",
    "\n",
    "    if not (1 <= risk_level <= 5):\n",
    "        raise ValueError(\"risk_level must be between 1 and 5\")\n",
    "\n",
    "    if years_to_target <= 0:\n",
    "        raise ValueError(\"years_to_target must be positive\")\n",
    "    \n",
    "    base_vol_map = {\n",
    "        1: 0.06,  # conservative\n",
    "        2: 0.10,\n",
    "        3: 0.14,\n",
    "        4: 0.18,\n",
    "        5: 0.22,  # aggressive\n",
    "    }\n",
    "    base_vol = base_vol_map[risk_level]\n",
    "\n",
    "    # Volatility decays nonlinearly as you near the target date\n",
    "    glide_factor = max((years_to_target / 40) ** 0.5, 0.2)\n",
    "    adjusted_vol = base_vol * glide_factor\n",
    "\n",
    "    adjusted_vol = max(adjusted_vol, .04)\n",
    "    return round(adjusted_vol, 4)\n"
   ]
  },
  {
   "cell_type": "code",
   "execution_count": 12,
   "id": "6d92a7e4",
   "metadata": {},
   "outputs": [
    {
     "name": "stderr",
     "output_type": "stream",
     "text": [
      "[*********************100%***********************]  5 of 5 completed\n"
     ]
    }
   ],
   "source": [
    "# Define the list of ticker symbols\n",
    "tickers = ['VTI', 'BND', 'VXUS', 'BNDX', 'BITB']  # Add or remove tickers as needed\n",
    "\n",
    "# Download historical data for the specified tickers\n",
    "data = yf.download(tickers, start='1995-01-01', end='2025-04-22', interval='1d', auto_adjust=True)\n",
    "\n",
    "# Extract the 'Close' prices\n",
    "close_prices = data['Close']\n",
    "\n",
    "# Reset the index to have 'Date' as a column\n",
    "close_prices.reset_index(inplace=True)\n",
    "\n",
    "# Save the data to a CSV file\n",
    "close_prices.to_csv('sample_data.csv', index=False)\n"
   ]
  },
  {
   "cell_type": "code",
   "execution_count": 13,
   "id": "38c79b2c",
   "metadata": {},
   "outputs": [
    {
     "ename": "NameError",
     "evalue": "name 'vol' is not defined",
     "output_type": "error",
     "traceback": [
      "\u001b[31m---------------------------------------------------------------------------\u001b[39m",
      "\u001b[31mNameError\u001b[39m                                 Traceback (most recent call last)",
      "\u001b[36mCell\u001b[39m\u001b[36m \u001b[39m\u001b[32mIn[13]\u001b[39m\u001b[32m, line 27\u001b[39m\n\u001b[32m     25\u001b[39m \u001b[38;5;28;01mif\u001b[39;00m \u001b[33m\"\u001b[39m\u001b[33mFVAL\u001b[39m\u001b[33m\"\u001b[39m \u001b[38;5;129;01min\u001b[39;00m tickers:\n\u001b[32m     26\u001b[39m     ef.add_constraint(\u001b[38;5;28;01mlambda\u001b[39;00m w: w[tickers.index(\u001b[33m\"\u001b[39m\u001b[33mFVAL\u001b[39m\u001b[33m\"\u001b[39m)] <= \u001b[32m0.3\u001b[39m)\n\u001b[32m---> \u001b[39m\u001b[32m27\u001b[39m weights = ef.efficient_risk(\u001b[43mvol\u001b[49m)\n\u001b[32m     31\u001b[39m cleaned_weights = ef.clean_weights()\n\u001b[32m     33\u001b[39m \u001b[38;5;66;03m# Step 3: Output weights and performance\u001b[39;00m\n",
      "\u001b[31mNameError\u001b[39m: name 'vol' is not defined"
     ]
    }
   ],
   "source": [
    "# Load adjusted close prices\n",
    "csv_path = \"sample_data.csv\"\n",
    "prices = pd.read_csv(csv_path, index_col=0, parse_dates=True)\n",
    "\n",
    "# Ensure tickers match column order\n",
    "tickers = list(prices.columns)\n",
    "\n",
    "\n",
    "# Step 1: Calculate expected returns and sample covariance matrix\n",
    "mu = expected_returns.mean_historical_return(prices)\n",
    "S = risk_models.sample_cov(prices)\n",
    "\n",
    "# Step 2: Optimize for maximal Sharpe ratio\n",
    "ef = EfficientFrontier(mu, S, weight_bounds=(0, 0.4))\n",
    "\n",
    "if \"BITB\" in tickers:\n",
    "    ef.add_constraint(lambda w: w[tickers.index(\"BITB\")] <= 0.15)\n",
    "\n",
    "if \"SPMO\" in tickers:\n",
    "    ef.add_constraint(lambda w: w[tickers.index(\"SPMO\")] <= 0.25)\n",
    "\n",
    "if \"AVUV\" in tickers:\n",
    "    ef.add_constraint(lambda w: w[tickers.index(\"AVUV\")] <= 0.25)\n",
    "\n",
    "if \"FVAL\" in tickers:\n",
    "    ef.add_constraint(lambda w: w[tickers.index(\"FVAL\")] <= 0.3)\n",
    "weights = ef.efficient_risk(vol)\n",
    "\n",
    "\n",
    "\n",
    "cleaned_weights = ef.clean_weights()\n",
    "\n",
    "# Step 3: Output weights and performance\n",
    "print(\"Optimized Portfolio Weights:\")\n",
    "print(cleaned_weights)\n",
    "\n",
    "performance = ef.portfolio_performance(verbose=True)\n"
   ]
  },
  {
   "cell_type": "code",
   "execution_count": null,
   "id": "82bd9679",
   "metadata": {},
   "outputs": [],
   "source": [
    "def buildPortfolio(riskLevel:int, yearsToTarget:int, bitcoin_focus: bool, value_focus: bool, momentum_focus: bool, small_cap_focus: bool):\n",
    "    tickers = [\"VTI\", \"BND\", \"BNDX\", \"VXUS\", \"VWO\", \"VEA\", \"USO\", \"VNQ\", \"QQQM\"]\n",
    "\n",
    "    if bitcoin_focus:\n",
    "        tickers.append(\"BITB\")\n",
    "    if value_focus:\n",
    "        tickers.append(\"VTV\")\n",
    "    if momentum_focus:\n",
    "        tickers.append(\"SPMO\")\n",
    "    if small_cap_focus:\n",
    "        tickers.append(\"AVUV\")\n",
    "\n",
    "    prices = yf.download(\n",
    "        tickers, \n",
    "        start='1995-01-01', \n",
    "        end='2025-04-22', \n",
    "        interval='1d', \n",
    "        auto_adjust=True\n",
    "    )['Close']\n",
    "\n",
    "    # Ensure Date is a datetime index (it should already be)\n",
    "    prices.index = pd.to_datetime(prices.index)\n",
    "\n",
    "    # Get list of tickers (column names)\n",
    "    tickers = list(prices.columns)\n",
    "\n",
    "    mu = expected_returns.mean_historical_return(prices)\n",
    "    S = risk_models.sample_cov(prices)\n",
    "\n",
    "    ef = EfficientFrontier(mu, S, weight_bounds=(0, 0.7))\n",
    "\n",
    "    ef.add_constraint(lambda w: w[tickers.index(\"QQQM\")] <= 0.22)\n",
    "\n",
    "    if \"BITB\" in tickers:\n",
    "        ef.add_constraint(lambda w: w[tickers.index(\"BITB\")] <= 0.15)\n",
    "\n",
    "    if \"SPMO\" in tickers:\n",
    "        ef.add_constraint(lambda w: w[tickers.index(\"SPMO\")] <= 0.15)\n",
    "\n",
    "    if \"AVUV\" in tickers:\n",
    "        ef.add_constraint(lambda w: w[tickers.index(\"AVUV\")] <= 0.25)\n",
    "\n",
    "    if \"VTV\" in tickers:\n",
    "        ef.add_constraint(lambda w: w[tickers.index(\"VTV\")] <= 0.3)\n",
    "    \n",
    "    vol = portfolio_settings(risk_level=riskLevel, years_to_target=yearsToTarget)\n",
    "    \n",
    "    ef.efficient_risk(vol)\n",
    "\n",
    "    cleaned_weights = ef.clean_weights()\n",
    "\n",
    "    # Step 3: Output weights and performance\n",
    "    # print(\"Optimized Portfolio Weights:\")\n",
    "    # print(cleaned_weights)\n",
    "\n",
    "    # performance = ef.portfolio_performance(verbose=True)\n",
    "    # print(performance)\n",
    "    return cleaned_weights\n",
    "    "
   ]
  },
  {
   "cell_type": "code",
   "execution_count": null,
   "id": "21804122",
   "metadata": {},
   "outputs": [],
   "source": [
    "portfolio = buildPortfolio(5,30,True, True, True, True)\n",
    "\n",
    "portfolio"
   ]
  },
  {
   "cell_type": "code",
   "execution_count": null,
   "id": "9fd1da10",
   "metadata": {},
   "outputs": [],
   "source": [
    "# Define ranges\n",
    "a_range = range(1, 6)              # 1 to 5\n",
    "b_range = range(1, 44)             # 1 to 43\n",
    "bool_values = [True, False]        # For focus values\n",
    "\n",
    "# Generate all combinations\n",
    "combinations = itertools.product(\n",
    "    a_range,\n",
    "    b_range,\n",
    "    bool_values,\n",
    "    bool_values,\n",
    "    bool_values,\n",
    "    bool_values\n",
    ")\n",
    "\n",
    "# Collect results\n",
    "results = []\n",
    "\n",
    "# buildPortfolio(1,1,True,True,True,True)\n",
    "for combo in tqdm(combinations, total=5 * 43 * 2**4, desc=\"Building Portfolios\"):\n",
    "# for combo in itertools.islice(combinations, 12):\n",
    "    # combo = combinations[i]\n",
    "    risk, yte, btc, value, momentum, smallcap = combo\n",
    "    # print(combo)\n",
    "    weights = buildPortfolio(*combo)\n",
    "    holdings = [{\"ticker\": k, \"percentage\": round(v * 100, 2)} for k, v in weights.items() if v > 0.0]\n",
    "\n",
    "    portfolio_json = {\n",
    "        \"years_to_expiration\": yte,\n",
    "        \"risk_aptitude\": risk,\n",
    "        \"bitcoin_focus\": btc,\n",
    "        \"smallcap_focus\": smallcap,\n",
    "        \"value_focus\": value,\n",
    "        \"momentum_focus\": momentum,\n",
    "        \"holdings\": holdings\n",
    "    }\n",
    "    results.append(portfolio_json)\n",
    "\n",
    "# Save to JSON file\n",
    "with open(\"portfolios.json\", \"w\") as f:\n",
    "    json.dump(results, f, indent=2)\n",
    "\n",
    "print(f\"Saved {len(results)} portfolios to 'portfolios.json'\")"
   ]
  },
  {
   "cell_type": "code",
   "execution_count": 22,
   "id": "57699e22",
   "metadata": {},
   "outputs": [],
   "source": [
    "def omega_ratio(tickers, weights, start_date=\"2020-01-01\", end_date=None, r_thresh=0.0):\n",
    "    \"\"\"\n",
    "    Calculate the Omega Ratio for a portfolio of tickers with given weights.\n",
    "    \n",
    "    Parameters:\n",
    "        tickers (list of str): Ticker symbols.\n",
    "        weights (list of float): Corresponding weights (should sum to 1).\n",
    "        start_date (str): Start date for historical data (YYYY-MM-DD).\n",
    "        end_date (str or None): End date for historical data (default today).\n",
    "        r_thresh (float): Threshold return (e.g. 0 or risk-free rate).\n",
    "        \n",
    "    Returns:\n",
    "        float: Omega Ratio of the portfolio.\n",
    "    \"\"\"\n",
    "    if len(tickers) != len(weights):\n",
    "        raise ValueError(\"Tickers and weights must have the same length.\")\n",
    "    if not np.isclose(sum(weights), 1.0):\n",
    "        raise ValueError(\"Weights must sum to 1.\")\n",
    "    \n",
    "    # Fetch adjusted close prices\n",
    "    data = yf.download(tickers, start=start_date, end=end_date)[\"Close\"]\n",
    "    data = data.dropna()\n",
    "    \n",
    "    # Compute daily log returns\n",
    "    log_returns = np.log(data / data.shift(1)).dropna()\n",
    "    \n",
    "    # Compute portfolio returns\n",
    "    portfolio_returns = log_returns.dot(weights)\n",
    "    \n",
    "    # Split returns into gains and losses based on threshold\n",
    "    gains = portfolio_returns[portfolio_returns > r_thresh] - r_thresh\n",
    "    losses = r_thresh - portfolio_returns[portfolio_returns < r_thresh]\n",
    "    \n",
    "    # Avoid division by zero\n",
    "    if losses.sum() == 0:\n",
    "        return np.inf\n",
    "    \n",
    "    omega = gains.sum() / losses.sum()\n",
    "    return omega"
   ]
  },
  {
   "cell_type": "code",
   "execution_count": null,
   "id": "1dc4a1f7",
   "metadata": {},
   "outputs": [],
   "source": [
    "tickers = ['AAPL', 'MSFT', 'GOOGL']\n",
    "weights = [0.4, 0.3, 0.3]\n",
    "ratio = omega_ratio(tickers, weights, start_date=\"2022-01-01\")\n",
    "print(\"Omega Ratio:\", ratio)"
   ]
  },
  {
   "cell_type": "markdown",
   "id": "20b51ff8",
   "metadata": {},
   "source": [
    "# Our portfolio"
   ]
  },
  {
   "cell_type": "code",
   "execution_count": 24,
   "id": "319dff21",
   "metadata": {},
   "outputs": [
    {
     "name": "stderr",
     "output_type": "stream",
     "text": [
      "[*********************100%***********************]  9 of 9 completed\n",
      "/Users/clinthart/Desktop/code/Evergreen/model/.venv/lib/python3.13/site-packages/pypfopt/risk_models.py:70: UserWarning: The covariance matrix is non positive semidefinite. Amending eigenvalues.\n",
      "  warnings.warn(\n",
      "[*********************100%***********************]  3 of 3 completed"
     ]
    },
    {
     "name": "stdout",
     "output_type": "stream",
     "text": [
      "Omega Ratio: 1.041093125100601\n"
     ]
    },
    {
     "name": "stderr",
     "output_type": "stream",
     "text": [
      "\n"
     ]
    }
   ],
   "source": [
    "portfolio = buildPortfolio(4,30,False, False, False, False)\n",
    "tickers = []\n",
    "weights = []\n",
    "for key in portfolio:\n",
    "    if portfolio[key] > 0:\n",
    "        tickers.append(key)\n",
    "        weights.append(portfolio[key])\n",
    "ratio = omega_ratio(tickers, weights, start_date=\"2022-01-01\")\n",
    "print(\"Omega Ratio:\", ratio)"
   ]
  },
  {
   "cell_type": "markdown",
   "id": "71cc62b4",
   "metadata": {},
   "source": [
    "# Vanguard Portfolio"
   ]
  },
  {
   "cell_type": "code",
   "execution_count": 25,
   "id": "0cecdc3d",
   "metadata": {},
   "outputs": [
    {
     "name": "stderr",
     "output_type": "stream",
     "text": [
      "[*********************100%***********************]  4 of 4 completed"
     ]
    },
    {
     "name": "stdout",
     "output_type": "stream",
     "text": [
      "Omega Ratio: 0.99791923691425\n"
     ]
    },
    {
     "name": "stderr",
     "output_type": "stream",
     "text": [
      "\n"
     ]
    }
   ],
   "source": [
    "tickers = [\"VTI\", \"VXUS\", \"BND\", \"BNDX\"]\n",
    "weights = [0.53, 0.37, 0.07, 0.03]\n",
    "ratio = omega_ratio(tickers, weights, start_date=\"2022-01-01\")\n",
    "print(\"Omega Ratio:\", ratio)"
   ]
  }
 ],
 "metadata": {
  "kernelspec": {
   "display_name": ".venv",
   "language": "python",
   "name": "python3"
  },
  "language_info": {
   "codemirror_mode": {
    "name": "ipython",
    "version": 3
   },
   "file_extension": ".py",
   "mimetype": "text/x-python",
   "name": "python",
   "nbconvert_exporter": "python",
   "pygments_lexer": "ipython3",
   "version": "3.13.1"
  }
 },
 "nbformat": 4,
 "nbformat_minor": 5
}
